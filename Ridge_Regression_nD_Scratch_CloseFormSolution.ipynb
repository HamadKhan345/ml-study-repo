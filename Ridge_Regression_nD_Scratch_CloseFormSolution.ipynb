{
  "nbformat": 4,
  "nbformat_minor": 0,
  "metadata": {
    "colab": {
      "provenance": [],
      "authorship_tag": "ABX9TyM1FlFfBooBhA7MMGOA4Kte"
    },
    "kernelspec": {
      "name": "python3",
      "display_name": "Python 3"
    },
    "language_info": {
      "name": "python"
    }
  },
  "cells": [
    {
      "cell_type": "code",
      "execution_count": 18,
      "metadata": {
        "id": "3G6_1NEYs4U8"
      },
      "outputs": [],
      "source": [
        "import numpy as np\n",
        "from sklearn.model_selection import train_test_split\n",
        "from sklearn.datasets import load_diabetes\n",
        "from sklearn.metrics import r2_score\n",
        "from sklearn.linear_model import Ridge"
      ]
    },
    {
      "cell_type": "code",
      "source": [
        "X, y = load_diabetes(return_X_y=True)"
      ],
      "metadata": {
        "id": "CNOiVD2HKF6R"
      },
      "execution_count": 19,
      "outputs": []
    },
    {
      "cell_type": "code",
      "source": [
        "X_train, X_test, y_train, y_test = train_test_split(X, y, test_size=0.2, random_state=2)"
      ],
      "metadata": {
        "id": "MJm2OaGmKGbK"
      },
      "execution_count": 20,
      "outputs": []
    },
    {
      "cell_type": "code",
      "source": [
        "ridge = Ridge(alpha=0.1, solver='cholesky')\n",
        "ridge.fit(X_train, y_train)\n",
        "\n",
        "y_pred = ridge.predict(X_test)\n",
        "print(r2_score(y_test, y_pred))"
      ],
      "metadata": {
        "colab": {
          "base_uri": "https://localhost:8080/"
        },
        "id": "dE2gUjkLKQYy",
        "outputId": "326fe547-13f2-4383-dd24-77e1ea379ad4"
      },
      "execution_count": 21,
      "outputs": [
        {
          "output_type": "stream",
          "name": "stdout",
          "text": [
            "0.45199494197195456\n"
          ]
        }
      ]
    },
    {
      "cell_type": "code",
      "source": [
        "print(ridge.coef_)\n",
        "print(ridge.intercept_)"
      ],
      "metadata": {
        "colab": {
          "base_uri": "https://localhost:8080/"
        },
        "id": "2KV1HuwMKbFp",
        "outputId": "6610f392-ebeb-428d-ea3f-a9125242abca"
      },
      "execution_count": 22,
      "outputs": [
        {
          "output_type": "stream",
          "name": "stdout",
          "text": [
            "[   6.64373321 -172.23747375  485.52958514  314.67584612  -72.94020918\n",
            "  -80.58868817 -174.46352722   83.61470987  484.36531622   73.58509056]\n",
            "151.92546856900984\n"
          ]
        }
      ]
    },
    {
      "cell_type": "code",
      "source": [
        "class ourRR:\n",
        "  def __init__(self, alpha=0.1):\n",
        "      self.alpha = alpha\n",
        "      self.intercept_ = None\n",
        "      self.coef_ = None\n",
        "\n",
        "  def fit(self, X_train, y_train):\n",
        "      X_train = np.insert(X_train, 0, 1, axis=1)\n",
        "      I = np.identity(X_train.shape[1])\n",
        "      I[0][0] = 0\n",
        "      result = np.linalg.inv(np.dot(X_train.T,X_train) + self.alpha * I).dot(X_train.T).dot(y_train)\n",
        "      self.intercept_ = result[0]\n",
        "      self.coef_ = result[1:]\n",
        "\n",
        "  def predict(self,X_test):\n",
        "      return np.dot(X_test,self.coef_) + self.intercept_"
      ],
      "metadata": {
        "id": "25M8sY6WKtze"
      },
      "execution_count": 25,
      "outputs": []
    },
    {
      "cell_type": "code",
      "source": [
        "ridge2 = ourRR(alpha=0.1)\n",
        "ridge2.fit(X_train, y_train)\n",
        "\n",
        "y_pred = ridge2.predict(X_test)\n",
        "print(r2_score(y_test, y_pred))"
      ],
      "metadata": {
        "colab": {
          "base_uri": "https://localhost:8080/"
        },
        "id": "jmmtnX4rQJo_",
        "outputId": "5276d1bd-c047-489f-8ed9-ce4aede8c6bc"
      },
      "execution_count": 26,
      "outputs": [
        {
          "output_type": "stream",
          "name": "stdout",
          "text": [
            "0.45199494197195456\n"
          ]
        }
      ]
    },
    {
      "cell_type": "code",
      "source": [
        "print(ridge2.coef_)\n",
        "print(ridge2.intercept_)"
      ],
      "metadata": {
        "id": "B06HO1j1Q020",
        "outputId": "1beaa6da-8e37-4532-b62b-81ecf1bf65a6",
        "colab": {
          "base_uri": "https://localhost:8080/"
        }
      },
      "execution_count": 27,
      "outputs": [
        {
          "output_type": "stream",
          "name": "stdout",
          "text": [
            "[   6.64373321 -172.23747375  485.52958514  314.67584612  -72.94020918\n",
            "  -80.58868817 -174.46352722   83.61470987  484.36531622   73.58509056]\n",
            "151.9254685690099\n"
          ]
        }
      ]
    }
  ]
}