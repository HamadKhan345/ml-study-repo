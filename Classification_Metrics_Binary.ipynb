{
 "cells": [
  {
   "cell_type": "code",
   "execution_count": 1,
   "id": "735ed857",
   "metadata": {
    "_cell_guid": "b1076dfc-b9ad-4769-8c92-a6c4dae69d19",
    "_uuid": "8f2839f25d086af736a60e9eeb907d3b93b6e0e5",
    "execution": {
     "iopub.execute_input": "2025-03-05T15:54:51.946512Z",
     "iopub.status.busy": "2025-03-05T15:54:51.946015Z",
     "iopub.status.idle": "2025-03-05T15:54:52.985195Z",
     "shell.execute_reply": "2025-03-05T15:54:52.983585Z"
    },
    "papermill": {
     "duration": 1.046513,
     "end_time": "2025-03-05T15:54:52.986985",
     "exception": false,
     "start_time": "2025-03-05T15:54:51.940472",
     "status": "completed"
    },
    "tags": []
   },
   "outputs": [
    {
     "name": "stdout",
     "output_type": "stream",
     "text": [
      "/kaggle/input/heart-disease-dataset/heart.csv\n"
     ]
    }
   ],
   "source": [
    "# This Python 3 environment comes with many helpful analytics libraries installed\n",
    "# It is defined by the kaggle/python Docker image: https://github.com/kaggle/docker-python\n",
    "# For example, here's several helpful packages to load\n",
    "\n",
    "import numpy as np # linear algebra\n",
    "import pandas as pd # data processing, CSV file I/O (e.g. pd.read_csv)\n",
    "\n",
    "# Input data files are available in the read-only \"../input/\" directory\n",
    "# For example, running this (by clicking run or pressing Shift+Enter) will list all files under the input directory\n",
    "\n",
    "import os\n",
    "for dirname, _, filenames in os.walk('/kaggle/input'):\n",
    "    for filename in filenames:\n",
    "        print(os.path.join(dirname, filename))\n",
    "\n",
    "# You can write up to 20GB to the current directory (/kaggle/working/) that gets preserved as output when you create a version using \"Save & Run All\" \n",
    "# You can also write temporary files to /kaggle/temp/, but they won't be saved outside of the current session"
   ]
  },
  {
   "cell_type": "code",
   "execution_count": 2,
   "id": "a5b2adf1",
   "metadata": {
    "execution": {
     "iopub.execute_input": "2025-03-05T15:54:52.996709Z",
     "iopub.status.busy": "2025-03-05T15:54:52.996243Z",
     "iopub.status.idle": "2025-03-05T15:54:53.043941Z",
     "shell.execute_reply": "2025-03-05T15:54:53.042851Z"
    },
    "papermill": {
     "duration": 0.054077,
     "end_time": "2025-03-05T15:54:53.045744",
     "exception": false,
     "start_time": "2025-03-05T15:54:52.991667",
     "status": "completed"
    },
    "tags": []
   },
   "outputs": [
    {
     "data": {
      "text/html": [
       "<div>\n",
       "<style scoped>\n",
       "    .dataframe tbody tr th:only-of-type {\n",
       "        vertical-align: middle;\n",
       "    }\n",
       "\n",
       "    .dataframe tbody tr th {\n",
       "        vertical-align: top;\n",
       "    }\n",
       "\n",
       "    .dataframe thead th {\n",
       "        text-align: right;\n",
       "    }\n",
       "</style>\n",
       "<table border=\"1\" class=\"dataframe\">\n",
       "  <thead>\n",
       "    <tr style=\"text-align: right;\">\n",
       "      <th></th>\n",
       "      <th>age</th>\n",
       "      <th>sex</th>\n",
       "      <th>cp</th>\n",
       "      <th>trestbps</th>\n",
       "      <th>chol</th>\n",
       "      <th>fbs</th>\n",
       "      <th>restecg</th>\n",
       "      <th>thalach</th>\n",
       "      <th>exang</th>\n",
       "      <th>oldpeak</th>\n",
       "      <th>slope</th>\n",
       "      <th>ca</th>\n",
       "      <th>thal</th>\n",
       "      <th>target</th>\n",
       "    </tr>\n",
       "  </thead>\n",
       "  <tbody>\n",
       "    <tr>\n",
       "      <th>0</th>\n",
       "      <td>52</td>\n",
       "      <td>1</td>\n",
       "      <td>0</td>\n",
       "      <td>125</td>\n",
       "      <td>212</td>\n",
       "      <td>0</td>\n",
       "      <td>1</td>\n",
       "      <td>168</td>\n",
       "      <td>0</td>\n",
       "      <td>1.0</td>\n",
       "      <td>2</td>\n",
       "      <td>2</td>\n",
       "      <td>3</td>\n",
       "      <td>0</td>\n",
       "    </tr>\n",
       "    <tr>\n",
       "      <th>1</th>\n",
       "      <td>53</td>\n",
       "      <td>1</td>\n",
       "      <td>0</td>\n",
       "      <td>140</td>\n",
       "      <td>203</td>\n",
       "      <td>1</td>\n",
       "      <td>0</td>\n",
       "      <td>155</td>\n",
       "      <td>1</td>\n",
       "      <td>3.1</td>\n",
       "      <td>0</td>\n",
       "      <td>0</td>\n",
       "      <td>3</td>\n",
       "      <td>0</td>\n",
       "    </tr>\n",
       "    <tr>\n",
       "      <th>2</th>\n",
       "      <td>70</td>\n",
       "      <td>1</td>\n",
       "      <td>0</td>\n",
       "      <td>145</td>\n",
       "      <td>174</td>\n",
       "      <td>0</td>\n",
       "      <td>1</td>\n",
       "      <td>125</td>\n",
       "      <td>1</td>\n",
       "      <td>2.6</td>\n",
       "      <td>0</td>\n",
       "      <td>0</td>\n",
       "      <td>3</td>\n",
       "      <td>0</td>\n",
       "    </tr>\n",
       "    <tr>\n",
       "      <th>3</th>\n",
       "      <td>61</td>\n",
       "      <td>1</td>\n",
       "      <td>0</td>\n",
       "      <td>148</td>\n",
       "      <td>203</td>\n",
       "      <td>0</td>\n",
       "      <td>1</td>\n",
       "      <td>161</td>\n",
       "      <td>0</td>\n",
       "      <td>0.0</td>\n",
       "      <td>2</td>\n",
       "      <td>1</td>\n",
       "      <td>3</td>\n",
       "      <td>0</td>\n",
       "    </tr>\n",
       "    <tr>\n",
       "      <th>4</th>\n",
       "      <td>62</td>\n",
       "      <td>0</td>\n",
       "      <td>0</td>\n",
       "      <td>138</td>\n",
       "      <td>294</td>\n",
       "      <td>1</td>\n",
       "      <td>1</td>\n",
       "      <td>106</td>\n",
       "      <td>0</td>\n",
       "      <td>1.9</td>\n",
       "      <td>1</td>\n",
       "      <td>3</td>\n",
       "      <td>2</td>\n",
       "      <td>0</td>\n",
       "    </tr>\n",
       "  </tbody>\n",
       "</table>\n",
       "</div>"
      ],
      "text/plain": [
       "   age  sex  cp  trestbps  chol  fbs  restecg  thalach  exang  oldpeak  slope  \\\n",
       "0   52    1   0       125   212    0        1      168      0      1.0      2   \n",
       "1   53    1   0       140   203    1        0      155      1      3.1      0   \n",
       "2   70    1   0       145   174    0        1      125      1      2.6      0   \n",
       "3   61    1   0       148   203    0        1      161      0      0.0      2   \n",
       "4   62    0   0       138   294    1        1      106      0      1.9      1   \n",
       "\n",
       "   ca  thal  target  \n",
       "0   2     3       0  \n",
       "1   0     3       0  \n",
       "2   0     3       0  \n",
       "3   1     3       0  \n",
       "4   3     2       0  "
      ]
     },
     "execution_count": 2,
     "metadata": {},
     "output_type": "execute_result"
    }
   ],
   "source": [
    "df = pd.read_csv('/kaggle/input/heart-disease-dataset/heart.csv')\n",
    "df.head()"
   ]
  },
  {
   "cell_type": "code",
   "execution_count": 3,
   "id": "10592c3c",
   "metadata": {
    "execution": {
     "iopub.execute_input": "2025-03-05T15:54:53.055107Z",
     "iopub.status.busy": "2025-03-05T15:54:53.054728Z",
     "iopub.status.idle": "2025-03-05T15:54:53.061191Z",
     "shell.execute_reply": "2025-03-05T15:54:53.060055Z"
    },
    "papermill": {
     "duration": 0.012981,
     "end_time": "2025-03-05T15:54:53.062899",
     "exception": false,
     "start_time": "2025-03-05T15:54:53.049918",
     "status": "completed"
    },
    "tags": []
   },
   "outputs": [
    {
     "data": {
      "text/plain": [
       "(1025, 14)"
      ]
     },
     "execution_count": 3,
     "metadata": {},
     "output_type": "execute_result"
    }
   ],
   "source": [
    "df.shape"
   ]
  },
  {
   "cell_type": "code",
   "execution_count": 4,
   "id": "1608d50d",
   "metadata": {
    "execution": {
     "iopub.execute_input": "2025-03-05T15:54:53.072173Z",
     "iopub.status.busy": "2025-03-05T15:54:53.071796Z",
     "iopub.status.idle": "2025-03-05T15:54:55.082721Z",
     "shell.execute_reply": "2025-03-05T15:54:55.081166Z"
    },
    "papermill": {
     "duration": 2.017766,
     "end_time": "2025-03-05T15:54:55.084736",
     "exception": false,
     "start_time": "2025-03-05T15:54:53.066970",
     "status": "completed"
    },
    "tags": []
   },
   "outputs": [],
   "source": [
    "from sklearn.linear_model import LogisticRegression\n",
    "from sklearn.tree import DecisionTreeClassifier\n",
    "from sklearn.model_selection import train_test_split"
   ]
  },
  {
   "cell_type": "code",
   "execution_count": 5,
   "id": "0dfaef58",
   "metadata": {
    "execution": {
     "iopub.execute_input": "2025-03-05T15:54:55.094236Z",
     "iopub.status.busy": "2025-03-05T15:54:55.093695Z",
     "iopub.status.idle": "2025-03-05T15:54:55.109598Z",
     "shell.execute_reply": "2025-03-05T15:54:55.108562Z"
    },
    "papermill": {
     "duration": 0.022361,
     "end_time": "2025-03-05T15:54:55.111292",
     "exception": false,
     "start_time": "2025-03-05T15:54:55.088931",
     "status": "completed"
    },
    "tags": []
   },
   "outputs": [],
   "source": [
    "X_train, X_test, y_train, y_test = train_test_split(df.iloc[:,0:-1], df.iloc[:,-1], test_size=0.2, random_state=2)"
   ]
  },
  {
   "cell_type": "code",
   "execution_count": 6,
   "id": "d791e72f",
   "metadata": {
    "execution": {
     "iopub.execute_input": "2025-03-05T15:54:55.120844Z",
     "iopub.status.busy": "2025-03-05T15:54:55.120520Z",
     "iopub.status.idle": "2025-03-05T15:54:55.124833Z",
     "shell.execute_reply": "2025-03-05T15:54:55.123779Z"
    },
    "papermill": {
     "duration": 0.010896,
     "end_time": "2025-03-05T15:54:55.126478",
     "exception": false,
     "start_time": "2025-03-05T15:54:55.115582",
     "status": "completed"
    },
    "tags": []
   },
   "outputs": [],
   "source": [
    "clf1 = LogisticRegression(max_iter=1000)\n",
    "clf2 = DecisionTreeClassifier()"
   ]
  },
  {
   "cell_type": "code",
   "execution_count": 7,
   "id": "ff31c7b0",
   "metadata": {
    "execution": {
     "iopub.execute_input": "2025-03-05T15:54:55.135826Z",
     "iopub.status.busy": "2025-03-05T15:54:55.135509Z",
     "iopub.status.idle": "2025-03-05T15:54:55.349157Z",
     "shell.execute_reply": "2025-03-05T15:54:55.348185Z"
    },
    "papermill": {
     "duration": 0.220382,
     "end_time": "2025-03-05T15:54:55.351022",
     "exception": false,
     "start_time": "2025-03-05T15:54:55.130640",
     "status": "completed"
    },
    "tags": []
   },
   "outputs": [],
   "source": [
    "clf1.fit(X_train, y_train)\n",
    "clf2.fit(X_train, y_train)\n",
    "\n",
    "y_pred1 = clf1.predict(X_test)\n",
    "y_pred2 = clf2.predict(X_test)"
   ]
  },
  {
   "cell_type": "code",
   "execution_count": 8,
   "id": "2c0a035b",
   "metadata": {
    "execution": {
     "iopub.execute_input": "2025-03-05T15:54:55.360781Z",
     "iopub.status.busy": "2025-03-05T15:54:55.360410Z",
     "iopub.status.idle": "2025-03-05T15:54:55.368908Z",
     "shell.execute_reply": "2025-03-05T15:54:55.367952Z"
    },
    "papermill": {
     "duration": 0.015217,
     "end_time": "2025-03-05T15:54:55.370587",
     "exception": false,
     "start_time": "2025-03-05T15:54:55.355370",
     "status": "completed"
    },
    "tags": []
   },
   "outputs": [
    {
     "name": "stdout",
     "output_type": "stream",
     "text": [
      "Accuracy of Logistic Regression:  0.848780487804878\n",
      "Accuracy of Decision Trees:  0.9804878048780488\n"
     ]
    }
   ],
   "source": [
    "from sklearn.metrics import accuracy_score,confusion_matrix\n",
    "\n",
    "print(\"Accuracy of Logistic Regression: \",accuracy_score(y_test,y_pred1))\n",
    "print(\"Accuracy of Decision Trees: \",accuracy_score(y_test,y_pred2))"
   ]
  },
  {
   "cell_type": "code",
   "execution_count": 9,
   "id": "54a57272",
   "metadata": {
    "execution": {
     "iopub.execute_input": "2025-03-05T15:54:55.380247Z",
     "iopub.status.busy": "2025-03-05T15:54:55.379865Z",
     "iopub.status.idle": "2025-03-05T15:54:55.392893Z",
     "shell.execute_reply": "2025-03-05T15:54:55.392079Z"
    },
    "papermill": {
     "duration": 0.019484,
     "end_time": "2025-03-05T15:54:55.394471",
     "exception": false,
     "start_time": "2025-03-05T15:54:55.374987",
     "status": "completed"
    },
    "tags": []
   },
   "outputs": [
    {
     "name": "stdout",
     "output_type": "stream",
     "text": [
      "Logistic Regression Confusion Matrix\n",
      "\n"
     ]
    },
    {
     "data": {
      "text/html": [
       "<div>\n",
       "<style scoped>\n",
       "    .dataframe tbody tr th:only-of-type {\n",
       "        vertical-align: middle;\n",
       "    }\n",
       "\n",
       "    .dataframe tbody tr th {\n",
       "        vertical-align: top;\n",
       "    }\n",
       "\n",
       "    .dataframe thead th {\n",
       "        text-align: right;\n",
       "    }\n",
       "</style>\n",
       "<table border=\"1\" class=\"dataframe\">\n",
       "  <thead>\n",
       "    <tr style=\"text-align: right;\">\n",
       "      <th></th>\n",
       "      <th>0</th>\n",
       "      <th>1</th>\n",
       "    </tr>\n",
       "  </thead>\n",
       "  <tbody>\n",
       "    <tr>\n",
       "      <th>0</th>\n",
       "      <td>81</td>\n",
       "      <td>24</td>\n",
       "    </tr>\n",
       "    <tr>\n",
       "      <th>1</th>\n",
       "      <td>7</td>\n",
       "      <td>93</td>\n",
       "    </tr>\n",
       "  </tbody>\n",
       "</table>\n",
       "</div>"
      ],
      "text/plain": [
       "    0   1\n",
       "0  81  24\n",
       "1   7  93"
      ]
     },
     "execution_count": 9,
     "metadata": {},
     "output_type": "execute_result"
    }
   ],
   "source": [
    "print(\"Logistic Regression Confusion Matrix\\n\")\n",
    "pd.DataFrame(confusion_matrix(y_test,y_pred1),columns=list(range(0,2)))"
   ]
  },
  {
   "cell_type": "code",
   "execution_count": 10,
   "id": "7e129948",
   "metadata": {
    "execution": {
     "iopub.execute_input": "2025-03-05T15:54:55.403921Z",
     "iopub.status.busy": "2025-03-05T15:54:55.403618Z",
     "iopub.status.idle": "2025-03-05T15:54:55.413845Z",
     "shell.execute_reply": "2025-03-05T15:54:55.412860Z"
    },
    "papermill": {
     "duration": 0.01664,
     "end_time": "2025-03-05T15:54:55.415426",
     "exception": false,
     "start_time": "2025-03-05T15:54:55.398786",
     "status": "completed"
    },
    "tags": []
   },
   "outputs": [
    {
     "name": "stdout",
     "output_type": "stream",
     "text": [
      "Decision Tree Confusion Matrix\n",
      "\n"
     ]
    },
    {
     "data": {
      "text/html": [
       "<div>\n",
       "<style scoped>\n",
       "    .dataframe tbody tr th:only-of-type {\n",
       "        vertical-align: middle;\n",
       "    }\n",
       "\n",
       "    .dataframe tbody tr th {\n",
       "        vertical-align: top;\n",
       "    }\n",
       "\n",
       "    .dataframe thead th {\n",
       "        text-align: right;\n",
       "    }\n",
       "</style>\n",
       "<table border=\"1\" class=\"dataframe\">\n",
       "  <thead>\n",
       "    <tr style=\"text-align: right;\">\n",
       "      <th></th>\n",
       "      <th>0</th>\n",
       "      <th>1</th>\n",
       "    </tr>\n",
       "  </thead>\n",
       "  <tbody>\n",
       "    <tr>\n",
       "      <th>0</th>\n",
       "      <td>101</td>\n",
       "      <td>4</td>\n",
       "    </tr>\n",
       "    <tr>\n",
       "      <th>1</th>\n",
       "      <td>0</td>\n",
       "      <td>100</td>\n",
       "    </tr>\n",
       "  </tbody>\n",
       "</table>\n",
       "</div>"
      ],
      "text/plain": [
       "     0    1\n",
       "0  101    4\n",
       "1    0  100"
      ]
     },
     "execution_count": 10,
     "metadata": {},
     "output_type": "execute_result"
    }
   ],
   "source": [
    "print(\"Decision Tree Confusion Matrix\\n\")\n",
    "pd.DataFrame(confusion_matrix(y_test,y_pred2),columns=list(range(0,2)))"
   ]
  },
  {
   "cell_type": "code",
   "execution_count": 11,
   "id": "8a3a279b",
   "metadata": {
    "execution": {
     "iopub.execute_input": "2025-03-05T15:54:55.425632Z",
     "iopub.status.busy": "2025-03-05T15:54:55.425243Z",
     "iopub.status.idle": "2025-03-05T15:54:55.432861Z",
     "shell.execute_reply": "2025-03-05T15:54:55.431788Z"
    },
    "papermill": {
     "duration": 0.014468,
     "end_time": "2025-03-05T15:54:55.434453",
     "exception": false,
     "start_time": "2025-03-05T15:54:55.419985",
     "status": "completed"
    },
    "tags": []
   },
   "outputs": [],
   "source": [
    "result = pd.DataFrame()\n",
    "result['Actual Label'] = y_test\n",
    "result['Logistic Regression Prediction'] = y_pred1\n",
    "result['Decision Tree Prediction'] = y_pred2"
   ]
  },
  {
   "cell_type": "code",
   "execution_count": 12,
   "id": "86c1c2f4",
   "metadata": {
    "execution": {
     "iopub.execute_input": "2025-03-05T15:54:55.444822Z",
     "iopub.status.busy": "2025-03-05T15:54:55.444468Z",
     "iopub.status.idle": "2025-03-05T15:54:55.453895Z",
     "shell.execute_reply": "2025-03-05T15:54:55.452860Z"
    },
    "papermill": {
     "duration": 0.016527,
     "end_time": "2025-03-05T15:54:55.455485",
     "exception": false,
     "start_time": "2025-03-05T15:54:55.438958",
     "status": "completed"
    },
    "tags": []
   },
   "outputs": [
    {
     "data": {
      "text/html": [
       "<div>\n",
       "<style scoped>\n",
       "    .dataframe tbody tr th:only-of-type {\n",
       "        vertical-align: middle;\n",
       "    }\n",
       "\n",
       "    .dataframe tbody tr th {\n",
       "        vertical-align: top;\n",
       "    }\n",
       "\n",
       "    .dataframe thead th {\n",
       "        text-align: right;\n",
       "    }\n",
       "</style>\n",
       "<table border=\"1\" class=\"dataframe\">\n",
       "  <thead>\n",
       "    <tr style=\"text-align: right;\">\n",
       "      <th></th>\n",
       "      <th>Actual Label</th>\n",
       "      <th>Logistic Regression Prediction</th>\n",
       "      <th>Decision Tree Prediction</th>\n",
       "    </tr>\n",
       "  </thead>\n",
       "  <tbody>\n",
       "    <tr>\n",
       "      <th>1010</th>\n",
       "      <td>0</td>\n",
       "      <td>0</td>\n",
       "      <td>0</td>\n",
       "    </tr>\n",
       "    <tr>\n",
       "      <th>496</th>\n",
       "      <td>0</td>\n",
       "      <td>0</td>\n",
       "      <td>0</td>\n",
       "    </tr>\n",
       "    <tr>\n",
       "      <th>949</th>\n",
       "      <td>1</td>\n",
       "      <td>0</td>\n",
       "      <td>1</td>\n",
       "    </tr>\n",
       "    <tr>\n",
       "      <th>37</th>\n",
       "      <td>1</td>\n",
       "      <td>1</td>\n",
       "      <td>1</td>\n",
       "    </tr>\n",
       "    <tr>\n",
       "      <th>952</th>\n",
       "      <td>1</td>\n",
       "      <td>1</td>\n",
       "      <td>1</td>\n",
       "    </tr>\n",
       "    <tr>\n",
       "      <th>330</th>\n",
       "      <td>1</td>\n",
       "      <td>1</td>\n",
       "      <td>1</td>\n",
       "    </tr>\n",
       "    <tr>\n",
       "      <th>711</th>\n",
       "      <td>0</td>\n",
       "      <td>0</td>\n",
       "      <td>0</td>\n",
       "    </tr>\n",
       "    <tr>\n",
       "      <th>284</th>\n",
       "      <td>0</td>\n",
       "      <td>0</td>\n",
       "      <td>0</td>\n",
       "    </tr>\n",
       "    <tr>\n",
       "      <th>644</th>\n",
       "      <td>1</td>\n",
       "      <td>1</td>\n",
       "      <td>1</td>\n",
       "    </tr>\n",
       "    <tr>\n",
       "      <th>71</th>\n",
       "      <td>0</td>\n",
       "      <td>0</td>\n",
       "      <td>0</td>\n",
       "    </tr>\n",
       "  </tbody>\n",
       "</table>\n",
       "</div>"
      ],
      "text/plain": [
       "      Actual Label  Logistic Regression Prediction  Decision Tree Prediction\n",
       "1010             0                               0                         0\n",
       "496              0                               0                         0\n",
       "949              1                               0                         1\n",
       "37               1                               1                         1\n",
       "952              1                               1                         1\n",
       "330              1                               1                         1\n",
       "711              0                               0                         0\n",
       "284              0                               0                         0\n",
       "644              1                               1                         1\n",
       "71               0                               0                         0"
      ]
     },
     "execution_count": 12,
     "metadata": {},
     "output_type": "execute_result"
    }
   ],
   "source": [
    "result.sample(10)"
   ]
  },
  {
   "cell_type": "code",
   "execution_count": 13,
   "id": "28e486e8",
   "metadata": {
    "execution": {
     "iopub.execute_input": "2025-03-05T15:54:55.465910Z",
     "iopub.status.busy": "2025-03-05T15:54:55.465546Z",
     "iopub.status.idle": "2025-03-05T15:54:55.469695Z",
     "shell.execute_reply": "2025-03-05T15:54:55.468665Z"
    },
    "papermill": {
     "duration": 0.011054,
     "end_time": "2025-03-05T15:54:55.471364",
     "exception": false,
     "start_time": "2025-03-05T15:54:55.460310",
     "status": "completed"
    },
    "tags": []
   },
   "outputs": [],
   "source": [
    "from sklearn.metrics import recall_score,precision_score,f1_score"
   ]
  },
  {
   "cell_type": "code",
   "execution_count": 14,
   "id": "b4a41b36",
   "metadata": {
    "execution": {
     "iopub.execute_input": "2025-03-05T15:54:55.481561Z",
     "iopub.status.busy": "2025-03-05T15:54:55.481212Z",
     "iopub.status.idle": "2025-03-05T15:54:55.498293Z",
     "shell.execute_reply": "2025-03-05T15:54:55.497118Z"
    },
    "papermill": {
     "duration": 0.024082,
     "end_time": "2025-03-05T15:54:55.499974",
     "exception": false,
     "start_time": "2025-03-05T15:54:55.475892",
     "status": "completed"
    },
    "tags": []
   },
   "outputs": [
    {
     "name": "stdout",
     "output_type": "stream",
     "text": [
      "For Logistic Regression Model\n",
      "--------------------------------------------------\n",
      "    0   1\n",
      "0  81  24\n",
      "1   7  93\n",
      "--------------------------------------------------\n",
      "Precision -  0.7948717948717948\n",
      "Recall -  0.93\n",
      "F1 score -  0.8571428571428572\n"
     ]
    }
   ],
   "source": [
    "print(\"For Logistic Regression Model\")\n",
    "print(\"-\"*50)\n",
    "cdf = pd.DataFrame(confusion_matrix(y_test,y_pred1),columns=list(range(0,2)))\n",
    "print(cdf)\n",
    "print(\"-\"*50)\n",
    "print(\"Precision - \",precision_score(y_test,y_pred1))\n",
    "print(\"Recall - \",recall_score(y_test,y_pred1))\n",
    "print(\"F1 score - \",f1_score(y_test,y_pred1))"
   ]
  },
  {
   "cell_type": "code",
   "execution_count": 15,
   "id": "bbbfe0de",
   "metadata": {
    "execution": {
     "iopub.execute_input": "2025-03-05T15:54:55.510478Z",
     "iopub.status.busy": "2025-03-05T15:54:55.510129Z",
     "iopub.status.idle": "2025-03-05T15:54:55.530164Z",
     "shell.execute_reply": "2025-03-05T15:54:55.528994Z"
    },
    "papermill": {
     "duration": 0.026976,
     "end_time": "2025-03-05T15:54:55.531788",
     "exception": false,
     "start_time": "2025-03-05T15:54:55.504812",
     "status": "completed"
    },
    "tags": []
   },
   "outputs": [
    {
     "name": "stdout",
     "output_type": "stream",
     "text": [
      "For Decision Tree Model\n",
      "--------------------------------------------------\n",
      "     0    1\n",
      "0  101    4\n",
      "1    0  100\n",
      "--------------------------------------------------\n",
      "Precision -  0.9615384615384616\n",
      "Recall -  1.0\n",
      "F1 score -  0.9803921568627451\n"
     ]
    }
   ],
   "source": [
    "print(\"For Decision Tree Model\")\n",
    "print(\"-\"*50)\n",
    "cdf = pd.DataFrame(confusion_matrix(y_test,y_pred2),columns=list(range(0,2)))\n",
    "print(cdf)\n",
    "print(\"-\"*50)\n",
    "print(\"Precision - \",precision_score(y_test,y_pred2))\n",
    "print(\"Recall - \",recall_score(y_test,y_pred2))\n",
    "print(\"F1 score - \",f1_score(y_test,y_pred2))"
   ]
  }
 ],
 "metadata": {
  "kaggle": {
   "accelerator": "none",
   "dataSources": [
    {
     "datasetId": 216167,
     "sourceId": 477177,
     "sourceType": "datasetVersion"
    }
   ],
   "dockerImageVersionId": 30918,
   "isGpuEnabled": false,
   "isInternetEnabled": true,
   "language": "python",
   "sourceType": "notebook"
  },
  "kernelspec": {
   "display_name": "Python 3",
   "language": "python",
   "name": "python3"
  },
  "language_info": {
   "codemirror_mode": {
    "name": "ipython",
    "version": 3
   },
   "file_extension": ".py",
   "mimetype": "text/x-python",
   "name": "python",
   "nbconvert_exporter": "python",
   "pygments_lexer": "ipython3",
   "version": "3.10.12"
  },
  "papermill": {
   "default_parameters": {},
   "duration": 7.241356,
   "end_time": "2025-03-05T15:54:56.256607",
   "environment_variables": {},
   "exception": null,
   "input_path": "__notebook__.ipynb",
   "output_path": "__notebook__.ipynb",
   "parameters": {},
   "start_time": "2025-03-05T15:54:49.015251",
   "version": "2.6.0"
  }
 },
 "nbformat": 4,
 "nbformat_minor": 5
}
