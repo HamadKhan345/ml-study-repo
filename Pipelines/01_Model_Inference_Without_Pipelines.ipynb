{
  "nbformat": 4,
  "nbformat_minor": 0,
  "metadata": {
    "colab": {
      "provenance": [],
      "authorship_tag": "ABX9TyMClYfplqqRlNFzHSK20df1"
    },
    "kernelspec": {
      "name": "python3",
      "display_name": "Python 3"
    },
    "language_info": {
      "name": "python"
    }
  },
  "cells": [
    {
      "cell_type": "code",
      "execution_count": 101,
      "metadata": {
        "id": "u9qyos2CL0vt"
      },
      "outputs": [],
      "source": [
        "import pickle\n",
        "import numpy as np"
      ]
    },
    {
      "cell_type": "code",
      "source": [
        "ohe_sex = pickle.load(open('/content/ohe_sex.pkl', 'rb'))\n",
        "ohe_embarked = pickle.load(open('/content/ohe_embarked.pkl', 'rb'))\n",
        "clf = pickle.load(open('/content/model.pkl', 'rb'))"
      ],
      "metadata": {
        "id": "Ai9zDx0osBjZ"
      },
      "execution_count": 102,
      "outputs": []
    },
    {
      "cell_type": "code",
      "source": [
        "# Sample user data\n",
        "# Pclass/gender/age/Sibsp/Parch/Fare/Embarked\n",
        "\n",
        "test_input = np.array([2, 'female', 22.0, 0, 0, 10.5, 'S'], dtype=object).reshape(1,7)"
      ],
      "metadata": {
        "id": "kWKvymQwsVUh"
      },
      "execution_count": 103,
      "outputs": []
    },
    {
      "cell_type": "code",
      "source": [
        "test_input"
      ],
      "metadata": {
        "colab": {
          "base_uri": "https://localhost:8080/"
        },
        "id": "GluS4-TUtHOL",
        "outputId": "7a013f11-22d4-4559-b629-d599286a1b30"
      },
      "execution_count": 104,
      "outputs": [
        {
          "output_type": "execute_result",
          "data": {
            "text/plain": [
              "array([[2, 'female', 22.0, 0, 0, 10.5, 'S']], dtype=object)"
            ]
          },
          "metadata": {},
          "execution_count": 104
        }
      ]
    },
    {
      "cell_type": "code",
      "source": [
        "test_input_sex = ohe_sex.transform(test_input[:,1].reshape(1,1))"
      ],
      "metadata": {
        "colab": {
          "base_uri": "https://localhost:8080/"
        },
        "id": "fsPPtWIItWRW",
        "outputId": "ec335033-3924-4abd-effb-8fe2b2d857a7"
      },
      "execution_count": 105,
      "outputs": [
        {
          "output_type": "stream",
          "name": "stderr",
          "text": [
            "/usr/local/lib/python3.11/dist-packages/sklearn/utils/validation.py:2739: UserWarning: X does not have valid feature names, but OneHotEncoder was fitted with feature names\n",
            "  warnings.warn(\n"
          ]
        }
      ]
    },
    {
      "cell_type": "code",
      "source": [
        "test_input_sex"
      ],
      "metadata": {
        "colab": {
          "base_uri": "https://localhost:8080/"
        },
        "id": "lnOY6utluD5E",
        "outputId": "5544ace0-5a2d-4881-d13f-9c05f362f643"
      },
      "execution_count": 106,
      "outputs": [
        {
          "output_type": "execute_result",
          "data": {
            "text/plain": [
              "array([[1., 0.]])"
            ]
          },
          "metadata": {},
          "execution_count": 106
        }
      ]
    },
    {
      "cell_type": "code",
      "source": [
        "test_input_embarked = ohe_embarked.transform(test_input[:,-1].reshape(1,1))"
      ],
      "metadata": {
        "id": "6KwURCiOtXYs"
      },
      "execution_count": 107,
      "outputs": []
    },
    {
      "cell_type": "code",
      "source": [
        "test_input_embarked"
      ],
      "metadata": {
        "colab": {
          "base_uri": "https://localhost:8080/"
        },
        "id": "-tRh4OSPuGhJ",
        "outputId": "27226425-f247-4fd0-8200-1801a7a05ce0"
      },
      "execution_count": 108,
      "outputs": [
        {
          "output_type": "execute_result",
          "data": {
            "text/plain": [
              "array([[0., 0., 1.]])"
            ]
          },
          "metadata": {},
          "execution_count": 108
        }
      ]
    },
    {
      "cell_type": "code",
      "source": [
        "# test_input_age = test_input[:,2].reshape(1,1)"
      ],
      "metadata": {
        "id": "Gis6er-yu8Lq"
      },
      "execution_count": 109,
      "outputs": []
    },
    {
      "cell_type": "code",
      "source": [
        "test_input_transformed = np.concatenate((test_input[:,[0,3,4,5,2]],test_input_sex, test_input_embarked), axis=1)"
      ],
      "metadata": {
        "id": "mYrKGyd5txho"
      },
      "execution_count": 110,
      "outputs": []
    },
    {
      "cell_type": "code",
      "source": [
        "test_input_transformed, test_input_transformed.shape"
      ],
      "metadata": {
        "colab": {
          "base_uri": "https://localhost:8080/"
        },
        "id": "nJK4jlFMuhka",
        "outputId": "60f02381-8577-4d2d-bc44-1535b57ebb42"
      },
      "execution_count": 111,
      "outputs": [
        {
          "output_type": "execute_result",
          "data": {
            "text/plain": [
              "(array([[2, 0, 0, 10.5, 22.0, 1.0, 0.0, 0.0, 0.0, 1.0]], dtype=object),\n",
              " (1, 10))"
            ]
          },
          "metadata": {},
          "execution_count": 111
        }
      ]
    },
    {
      "cell_type": "code",
      "source": [
        "clf.predict(test_input_transformed)"
      ],
      "metadata": {
        "colab": {
          "base_uri": "https://localhost:8080/"
        },
        "id": "5eLrmONXur-Y",
        "outputId": "04ccc8dd-bc6d-4407-ccc0-59780d25138b"
      },
      "execution_count": 112,
      "outputs": [
        {
          "output_type": "execute_result",
          "data": {
            "text/plain": [
              "array([1])"
            ]
          },
          "metadata": {},
          "execution_count": 112
        }
      ]
    }
  ]
}